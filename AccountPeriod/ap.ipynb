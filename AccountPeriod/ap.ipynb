{
 "cells": [
  {
   "cell_type": "code",
   "execution_count": 15,
   "metadata": {},
   "outputs": [
    {
     "name": "stdout",
     "output_type": "stream",
     "text": [
      "Index(['唯一值', '参考值', 'wp取数', 'wp取数.1', 'wp取数.2', 'wp取数.3', 'wp取数.4', 'wp取数.5',\n",
      "       '值=参考值-WP取数合计'],\n",
      "      dtype='object')\n"
     ]
    }
   ],
   "source": [
    "import pandas as pd\n",
    "\n",
    "pd.set_option('future.no_silent_downcasting', True)\n",
    "# Load the Excel file\n",
    "file_path = '数据模版.xlsx'\n",
    "df = pd.read_excel(file_path, header=1)\n",
    "\n",
    "# Display the column names to check for discrepancies\n",
    "print(df.columns)\n"
   ]
  },
  {
   "cell_type": "code",
   "execution_count": 21,
   "metadata": {},
   "outputs": [
    {
     "data": {
      "text/html": [
       "<div>\n",
       "<style scoped>\n",
       "    .dataframe tbody tr th:only-of-type {\n",
       "        vertical-align: middle;\n",
       "    }\n",
       "\n",
       "    .dataframe tbody tr th {\n",
       "        vertical-align: top;\n",
       "    }\n",
       "\n",
       "    .dataframe thead th {\n",
       "        text-align: right;\n",
       "    }\n",
       "</style>\n",
       "<table border=\"1\" class=\"dataframe\">\n",
       "  <thead>\n",
       "    <tr style=\"text-align: right;\">\n",
       "      <th></th>\n",
       "      <th>唯一值</th>\n",
       "      <th>收入</th>\n",
       "      <th>值=参考值-WP取数合计</th>\n",
       "      <th>验证</th>\n",
       "    </tr>\n",
       "  </thead>\n",
       "  <tbody>\n",
       "    <tr>\n",
       "      <th>0</th>\n",
       "      <td>152302001324035</td>\n",
       "      <td>-6.20</td>\n",
       "      <td>-6.20</td>\n",
       "      <td>True</td>\n",
       "    </tr>\n",
       "    <tr>\n",
       "      <th>1</th>\n",
       "      <td>164489966125300</td>\n",
       "      <td>-13.30</td>\n",
       "      <td>-13.30</td>\n",
       "      <td>True</td>\n",
       "    </tr>\n",
       "    <tr>\n",
       "      <th>2</th>\n",
       "      <td>164710007963699</td>\n",
       "      <td>-4.20</td>\n",
       "      <td>-4.20</td>\n",
       "      <td>True</td>\n",
       "    </tr>\n",
       "    <tr>\n",
       "      <th>3</th>\n",
       "      <td>166331002913076</td>\n",
       "      <td>0.80</td>\n",
       "      <td>0.80</td>\n",
       "      <td>True</td>\n",
       "    </tr>\n",
       "    <tr>\n",
       "      <th>4</th>\n",
       "      <td>179852608798987</td>\n",
       "      <td>-23.76</td>\n",
       "      <td>-23.76</td>\n",
       "      <td>True</td>\n",
       "    </tr>\n",
       "    <tr>\n",
       "      <th>5</th>\n",
       "      <td>184398615675100</td>\n",
       "      <td>1.44</td>\n",
       "      <td>1.44</td>\n",
       "      <td>True</td>\n",
       "    </tr>\n",
       "    <tr>\n",
       "      <th>6</th>\n",
       "      <td>188037973147764</td>\n",
       "      <td>-12.27</td>\n",
       "      <td>-12.27</td>\n",
       "      <td>True</td>\n",
       "    </tr>\n",
       "    <tr>\n",
       "      <th>7</th>\n",
       "      <td>189446196297868</td>\n",
       "      <td>8.73</td>\n",
       "      <td>8.73</td>\n",
       "      <td>True</td>\n",
       "    </tr>\n",
       "  </tbody>\n",
       "</table>\n",
       "</div>"
      ],
      "text/plain": [
       "               唯一值     收入  值=参考值-WP取数合计    验证\n",
       "0  152302001324035  -6.20         -6.20  True\n",
       "1  164489966125300 -13.30        -13.30  True\n",
       "2  164710007963699  -4.20         -4.20  True\n",
       "3  166331002913076   0.80          0.80  True\n",
       "4  179852608798987 -23.76        -23.76  True\n",
       "5  184398615675100   1.44          1.44  True\n",
       "6  188037973147764 -12.27        -12.27  True\n",
       "7  189446196297868   8.73          8.73  True"
      ]
     },
     "metadata": {},
     "output_type": "display_data"
    }
   ],
   "source": [
    "import numpy as np\n",
    "\n",
    "# Function to calculate the value\n",
    "def compute_income(row):\n",
    "    reference_value = row['参考值']\n",
    "    wp_sum = sum(row[['wp取数', 'wp取数.1', 'wp取数.2', 'wp取数.3', 'wp取数.4', 'wp取数.5']].fillna(0))\n",
    "    calculated_value = reference_value - wp_sum\n",
    "    return round(calculated_value, 2)\n",
    "\n",
    "# Apply the calculation to each row and compare with the last column\n",
    "df['收入'] = df.apply(compute_income, axis=1)\n",
    "\n",
    "# Define a function to check approximate equality\n",
    "def approx_equal(a, b, tolerance=1e-9):\n",
    "    return np.abs(a - b) < tolerance\n",
    "\n",
    "df['验证'] = df.apply(lambda row: approx_equal(row['calculated_value'], row['值=参考值-WP取数合计']), axis=1)\n",
    "\n",
    "# Display the result as a table\n",
    "result_df = df[['唯一值', '收入', '值=参考值-WP取数合计', '验证']]\n",
    "\n",
    "# Show the result table in Jupyter Notebook using display()\n",
    "display(result_df)"
   ]
  }
 ],
 "metadata": {
  "kernelspec": {
   "display_name": "langchain-py11",
   "language": "python",
   "name": "python3"
  },
  "language_info": {
   "codemirror_mode": {
    "name": "ipython",
    "version": 3
   },
   "file_extension": ".py",
   "mimetype": "text/x-python",
   "name": "python",
   "nbconvert_exporter": "python",
   "pygments_lexer": "ipython3",
   "version": "3.11.9"
  }
 },
 "nbformat": 4,
 "nbformat_minor": 2
}
