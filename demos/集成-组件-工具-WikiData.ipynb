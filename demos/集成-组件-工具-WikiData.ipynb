{
 "cells": [
  {
   "cell_type": "code",
   "execution_count": 1,
   "metadata": {},
   "outputs": [
    {
     "name": "stdout",
     "output_type": "stream",
     "text": [
      "Result Q80290:\n",
      "Label: 故宫\n",
      "Description: 中國明清兩個朝代二十四位皇帝的皇宫\n",
      "Aliases: 北京紫禁城, 北京故宫, 北平故宮, 故宮, 北京宫城, 北京故宮, 紫禁城, 北京皇宫, 明清故宫\n",
      "隶属于: 宮殿, 旅遊景點, 建筑群, 博物館\n",
      "所属实体: 北京及瀋陽的明清皇家宮殿, 北京皇城\n",
      "可分為: 東六宮, 西六宮\n",
      "国家: 中华人民共和国\n",
      "所在行政领土实体: 东华门街道, 东城区\n",
      "成立或建立時間: 1420\n",
      "地理坐标: 39.91583333333333, 116.39083333333333\n",
      "\n",
      "Result Q10517571:\n",
      "Label: 西六宮\n",
      "所属实体: 故宫\n",
      "可分為: 长春宫, 永寿宫, 翊坤宮, 儲秀宮, 太極殿, 咸福宮\n",
      "国家: 中华人民共和国\n",
      "位置: 北京市\n"
     ]
    }
   ],
   "source": [
    "from langchain_community.tools.wikidata.tool import WikidataAPIWrapper, WikidataQueryRun\n",
    "\n",
    "wikidata = WikidataQueryRun(api_wrapper=WikidataAPIWrapper(lang=\"zh\"))\n",
    "\n",
    "print(wikidata.run(\"紫禁城\"))"
   ]
  }
 ],
 "metadata": {
  "kernelspec": {
   "display_name": "langchain-py11",
   "language": "python",
   "name": "python3"
  },
  "language_info": {
   "codemirror_mode": {
    "name": "ipython",
    "version": 3
   },
   "file_extension": ".py",
   "mimetype": "text/x-python",
   "name": "python",
   "nbconvert_exporter": "python",
   "pygments_lexer": "ipython3",
   "version": "3.11.9"
  }
 },
 "nbformat": 4,
 "nbformat_minor": 2
}
